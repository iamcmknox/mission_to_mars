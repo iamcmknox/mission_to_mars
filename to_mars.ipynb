{
 "cells": [
  {
   "cell_type": "code",
   "execution_count": 63,
   "metadata": {},
   "outputs": [],
   "source": [
    "# dependencies and setup\n",
    "from bs4 import BeautifulSoup as bs\n",
    "from splinter import Browser\n",
    "import time\n",
    "import requests\n",
    "import pandas as pd\n"
   ]
  },
  {
   "cell_type": "code",
   "execution_count": 53,
   "metadata": {},
   "outputs": [],
   "source": [
    "# showing the computer where to find the chromedriver\n",
    "executablePath = {\"executablePath\": \"~/usr/local/bin/chromedriver.exec\"}\n",
    "browser = Browser(\"chrome\", executable_path, headless=False)"
   ]
  },
  {
   "cell_type": "code",
   "execution_count": 54,
   "metadata": {},
   "outputs": [],
   "source": [
    "# Visit the NASA website to find the top mars news article\n",
    "marsUrl = \"https://mars.nasa.gov/news/\"\n",
    "browser.visit(marsUrl)\n",
    "time.sleep(1)\n",
    "htmlMarsSite = browser.html\n",
    "time.sleep(1)\n",
    "# Scrape page into Soup\n",
    "soup = bs(htmlMarsSite,\"html.parser\")\n",
    "time.sleep(1)"
   ]
  },
  {
   "cell_type": "code",
   "execution_count": 55,
   "metadata": {},
   "outputs": [],
   "source": [
    "# Find the the latest news title and headline text in soup\n",
    "newsTitle = soup.find(\"div\",class_=\"content_title\").text\n",
    "time.sleep(1)\n",
    "newsP = soup.find(\"div\",class_=\"article_teaser_body\").text\n",
    "time.sleep(1)"
   ]
  },
  {
   "cell_type": "code",
   "execution_count": 56,
   "metadata": {},
   "outputs": [
    {
     "name": "stdout",
     "output_type": "stream",
     "text": [
      "The latest title is: Mars Now\n",
      "With the description: The six-wheeled scientist is heading south to explore Jezero Crater’s lakebed in search of signs of ancient microbial life.\n"
     ]
    }
   ],
   "source": [
    "# print the variables to check that we're pulling the right things\n",
    "print(f\"The latest title is: {newsTitle}\")\n",
    "print(f\"With the description: {newsP}\")"
   ]
  },
  {
   "cell_type": "markdown",
   "metadata": {},
   "source": [
    "## Image"
   ]
  },
  {
   "cell_type": "code",
   "execution_count": 57,
   "metadata": {},
   "outputs": [
    {
     "name": "stdout",
     "output_type": "stream",
     "text": [
      "https://data-class-jpl-space.s3.amazonaws.com/JPL_Space/image/featured/mars1.jpg\n"
     ]
    }
   ],
   "source": [
    "# open the url and scrape the featured image\n",
    "url = 'https://data-class-jpl-space.s3.amazonaws.com/JPL_Space'\n",
    "browser.visit(url + '/index.html')\n",
    "html = browser.html\n",
    "soup = bs(html, 'html.parser')\n",
    "\n",
    "# Scrape the featured image location\n",
    "header = soup.find_all('div', class_='header')\n",
    "for item in header: \n",
    "    featuredImg = item.find('img',class_='headerimage fade-in')['src']\n",
    "    \n",
    "# Get the full image url \n",
    "featuredImgUrl = url + '/' + featuredImg\n",
    "\n",
    "# Quit \n",
    "browser.quit()\n",
    "\n",
    "print(featuredImgUrl)"
   ]
  },
  {
   "cell_type": "markdown",
   "metadata": {},
   "source": [
    "## Facts"
   ]
  },
  {
   "cell_type": "code",
   "execution_count": 59,
   "metadata": {
    "scrolled": false
   },
   "outputs": [
    {
     "data": {
      "text/html": [
       "<div>\n",
       "<style scoped>\n",
       "    .dataframe tbody tr th:only-of-type {\n",
       "        vertical-align: middle;\n",
       "    }\n",
       "\n",
       "    .dataframe tbody tr th {\n",
       "        vertical-align: top;\n",
       "    }\n",
       "\n",
       "    .dataframe thead th {\n",
       "        text-align: right;\n",
       "    }\n",
       "</style>\n",
       "<table border=\"1\" class=\"dataframe\">\n",
       "  <thead>\n",
       "    <tr style=\"text-align: right;\">\n",
       "      <th></th>\n",
       "      <th>Description</th>\n",
       "      <th>Value</th>\n",
       "    </tr>\n",
       "  </thead>\n",
       "  <tbody>\n",
       "    <tr>\n",
       "      <th>0</th>\n",
       "      <td>Equatorial Diameter:</td>\n",
       "      <td>6,792 km</td>\n",
       "    </tr>\n",
       "    <tr>\n",
       "      <th>1</th>\n",
       "      <td>Polar Diameter:</td>\n",
       "      <td>6,752 km</td>\n",
       "    </tr>\n",
       "    <tr>\n",
       "      <th>2</th>\n",
       "      <td>Mass:</td>\n",
       "      <td>6.39 × 10^23 kg (0.11 Earths)</td>\n",
       "    </tr>\n",
       "    <tr>\n",
       "      <th>3</th>\n",
       "      <td>Moons:</td>\n",
       "      <td>2 (Phobos &amp; Deimos)</td>\n",
       "    </tr>\n",
       "    <tr>\n",
       "      <th>4</th>\n",
       "      <td>Orbit Distance:</td>\n",
       "      <td>227,943,824 km (1.38 AU)</td>\n",
       "    </tr>\n",
       "    <tr>\n",
       "      <th>5</th>\n",
       "      <td>Orbit Period:</td>\n",
       "      <td>687 days (1.9 years)</td>\n",
       "    </tr>\n",
       "    <tr>\n",
       "      <th>6</th>\n",
       "      <td>Surface Temperature:</td>\n",
       "      <td>-87 to -5 °C</td>\n",
       "    </tr>\n",
       "    <tr>\n",
       "      <th>7</th>\n",
       "      <td>First Record:</td>\n",
       "      <td>2nd millennium BC</td>\n",
       "    </tr>\n",
       "    <tr>\n",
       "      <th>8</th>\n",
       "      <td>Recorded By:</td>\n",
       "      <td>Egyptian astronomers</td>\n",
       "    </tr>\n",
       "  </tbody>\n",
       "</table>\n",
       "</div>"
      ],
      "text/plain": [
       "            Description                          Value\n",
       "0  Equatorial Diameter:                       6,792 km\n",
       "1       Polar Diameter:                       6,752 km\n",
       "2                 Mass:  6.39 × 10^23 kg (0.11 Earths)\n",
       "3                Moons:            2 (Phobos & Deimos)\n",
       "4       Orbit Distance:       227,943,824 km (1.38 AU)\n",
       "5         Orbit Period:           687 days (1.9 years)\n",
       "6  Surface Temperature:                   -87 to -5 °C\n",
       "7         First Record:              2nd millennium BC\n",
       "8          Recorded By:           Egyptian astronomers"
      ]
     },
     "execution_count": 59,
     "metadata": {},
     "output_type": "execute_result"
    }
   ],
   "source": [
    "# Visit the Space Facts website to find Mars facts\n",
    "marsFactsUrl = \"https://space-facts.com/mars/\"\n",
    "marsFacts = pd.read_html(marsFactsUrl)\n",
    "facts_df = marsFacts[0]\n",
    "# Create a dataframe and add columns\n",
    "facts_df.columns = ['Description','Value']\n",
    "facts_df.to_html(header=False, index=False)\n",
    "facts_df\n"
   ]
  },
  {
   "cell_type": "markdown",
   "metadata": {},
   "source": [
    "## Hemispheres"
   ]
  },
  {
   "cell_type": "code",
   "execution_count": 78,
   "metadata": {},
   "outputs": [],
   "source": [
    "# Scrape pictures of each hemisphere \n",
    "url = 'https://astrogeology.usgs.gov/search/results?q=hemisphere+enhanced&k1=target&v1=Mars'\n",
    "response = requests.get(url)\n",
    "soup = bs(response.text, 'html.parser')"
   ]
  },
  {
   "cell_type": "code",
   "execution_count": 79,
   "metadata": {},
   "outputs": [],
   "source": [
    "# Navigate to item section \n",
    "links = soup.find_all('a', class_='itemLink product-item')\n",
    "\n",
    "# Create empty list of links \n",
    "link_list = []\n",
    "\n",
    "# Loop through link section and get image info links \n",
    "for link in links:\n",
    "    img_link = link['href']\n",
    "    \n",
    "    # Add image info to list \n",
    "    link_list.append(img_link)"
   ]
  },
  {
   "cell_type": "code",
   "execution_count": 80,
   "metadata": {},
   "outputs": [],
   "source": [
    "# Generate full links to image info pages \n",
    "base_url = 'https://astrogeology.usgs.gov'\n",
    "\n",
    "# Empty list for full links \n",
    "full_links = []\n",
    "\n",
    "# Loop through link list and generate full link\n",
    "for link in link_list:\n",
    "    full_link = base_url + link\n",
    "    full_links.append(full_link)"
   ]
  },
  {
   "cell_type": "code",
   "execution_count": 81,
   "metadata": {},
   "outputs": [],
   "source": [
    "# Empty lists for full-size image links and titles\n",
    "img_links = []\n",
    "titles = []\n",
    "\n",
    "# Loop through each link and scrape title and links to the full size image\n",
    "for link in full_links:\n",
    "    response = requests.get(link)\n",
    "    soup = bs(response.text, 'html.parser')\n",
    "    \n",
    "    # Navigate to title \n",
    "    title = soup.find('h2', class_='title').text\n",
    "    titles.append(title)\n",
    "    \n",
    "    # Navigate to image link location\n",
    "    img_link = soup.find('img', class_='wide-image')\n",
    "    img_link = img_link['src']\n",
    "    img_links.append(img_link)"
   ]
  },
  {
   "cell_type": "code",
   "execution_count": 82,
   "metadata": {},
   "outputs": [],
   "source": [
    "# Generate full url link\n",
    "full_img_links = []\n",
    "for link in img_links:\n",
    "    full_link = base_url + link\n",
    "    full_img_links.append(full_link)"
   ]
  },
  {
   "cell_type": "code",
   "execution_count": 83,
   "metadata": {},
   "outputs": [
    {
     "name": "stdout",
     "output_type": "stream",
     "text": [
      "{'title': 'Cerberus Hemisphere Enhanced', 'img_url': 'https://astrogeology.usgs.gov/cache/images/f5e372a36edfa389625da6d0cc25d905_cerberus_enhanced.tif_full.jpg'}\n",
      "{'title': 'Schiaparelli Hemisphere Enhanced', 'img_url': 'https://astrogeology.usgs.gov/cache/images/3778f7b43bbbc89d6e3cfabb3613ba93_schiaparelli_enhanced.tif_full.jpg'}\n",
      "{'title': 'Syrtis Major Hemisphere Enhanced', 'img_url': 'https://astrogeology.usgs.gov/cache/images/555e6403a6ddd7ba16ddb0e471cadcf7_syrtis_major_enhanced.tif_full.jpg'}\n",
      "{'title': 'Valles Marineris Hemisphere Enhanced', 'img_url': 'https://astrogeology.usgs.gov/cache/images/b3c7c6c9138f57b4756be9b9c43e3a48_valles_marineris_enhanced.tif_full.jpg'}\n"
     ]
    }
   ],
   "source": [
    "# Create list of dictionaries for each image\n",
    "keys = ['title', 'img_url']\n",
    "zip_list= list(zip(titles, full_img_links))\n",
    "hemispheres = [{k:v for k,v in zip(keys, z)} for z in zip_list]\n",
    "\n",
    "# Print \n",
    "for hemisphere in hemispheres:\n",
    "    print(hemisphere)"
   ]
  },
  {
   "cell_type": "code",
   "execution_count": 70,
   "metadata": {},
   "outputs": [],
   "source": [
    "browser.quit()"
   ]
  }
 ],
 "metadata": {
  "kernelspec": {
   "display_name": "Python 3",
   "language": "python",
   "name": "python3"
  },
  "language_info": {
   "codemirror_mode": {
    "name": "ipython",
    "version": 3
   },
   "file_extension": ".py",
   "mimetype": "text/x-python",
   "name": "python",
   "nbconvert_exporter": "python",
   "pygments_lexer": "ipython3",
   "version": "3.8.5"
  }
 },
 "nbformat": 4,
 "nbformat_minor": 4
}
